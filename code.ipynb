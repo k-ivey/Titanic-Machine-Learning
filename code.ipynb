{
 "cells": [
  {
   "cell_type": "code",
   "execution_count": 1,
   "metadata": {},
   "outputs": [],
   "source": [
    "import pandas as pd\n",
    "import numpy as np\n",
    "import seaborn as sns\n",
    "import matplotlib.pyplot as plt\n",
    "import scipy.optimize as opt\n",
    "from sklearn.preprocessing import PolynomialFeatures"
   ]
  },
  {
   "cell_type": "code",
   "execution_count": 2,
   "metadata": {},
   "outputs": [],
   "source": [
    "df = pd.read_csv('data/train.csv')\n",
    "\n",
    "df['gender'] = np.where(df['Sex'] == 'female', 1, 0)\n",
    "port_dic = {'S': 0, 'C':1, 'Q':2, np.NaN:0}\n",
    "\n",
    "#Most passangers embarked from Southampton\n",
    "df['port'] = pd.Series(df['Embarked']).map(port_dic)\n",
    "\n",
    "df['Fare'] = df['Fare'].astype('int64')\n",
    "df['Age'] = df['Age'].replace('nan', np.nan)\n",
    "rand_age = pd.Series(np.random.randint(df['Age'].mean() - df['Age'].std(), df['Age'].mean() + df['Age'].std(),\n",
    "                            size = 1000))\n",
    "#Fill missing ages with age that falls within one standard deviation of mean\n",
    "df['Age'] = df['Age'].fillna(rand_age)\n",
    "df = df.drop(columns = ['Name', 'Ticket', 'Cabin', 'Sex', 'PassengerId', 'Embarked'])"
   ]
  },
  {
   "cell_type": "code",
   "execution_count": 3,
   "metadata": {},
   "outputs": [],
   "source": [
    "df_test = pd.read_csv('data/test.csv')\n",
    "df_test['gender'] = np.where(df_test['Sex'] == 'female', 1, 0)\n",
    "port_dic = {'S': 0, 'C':1, 'Q':2, np.NaN:0}\n",
    "\n",
    "#Most passangers embarked from Southampton\n",
    "df_test['port'] = pd.Series(df_test['Embarked']).map(port_dic)\n",
    "\n",
    "#The mean fare for pclass = 3 is around 13\n",
    "df_test['Fare'] = df_test['Fare'].fillna(13)\n",
    "df_test['Fare'] = df_test['Fare'].astype('int64')\n",
    "\n",
    "df_test['Age'] = df_test['Age'].replace('nan', np.nan)\n",
    "#Fill missing ages with age that falls within one standard deviation of mean\n",
    "df_test['Age'] = df_test['Age'].fillna(rand_age)\n",
    "test_pss_id = df_test['PassengerId']\n",
    "df_test = df_test.drop(columns = ['Name', 'Ticket', 'Cabin', 'Sex', 'PassengerId', 'Embarked'])"
   ]
  },
  {
   "cell_type": "code",
   "execution_count": 4,
   "metadata": {},
   "outputs": [],
   "source": [
    "#Set up sigmoid function\n",
    "def sigmoid(x):\n",
    "    '''Returns sigmoid function applied to each element'''\n",
    "    \n",
    "    return (1/(1 + np.exp(-x)))"
   ]
  },
  {
   "cell_type": "code",
   "execution_count": 5,
   "metadata": {},
   "outputs": [],
   "source": [
    "#Split data set into train and cross validation\n",
    "train = df[:int(len(df) *.8)]\n",
    "cv = df[int(len(df)*.8):]"
   ]
  },
  {
   "cell_type": "code",
   "execution_count": 6,
   "metadata": {},
   "outputs": [],
   "source": [
    "#Create y values with survival data, drop from dataframe\n",
    "y_train = np.array(train['Survived'])\n",
    "y_train = np.reshape(y_train, (len(y_train),1))\n",
    "\n",
    "y_cv = np.array(cv['Survived'])\n",
    "y_cv = np.reshape(y_cv, (len(y_cv), 1))\n",
    "\n",
    "train = train.drop(columns = 'Survived')\n",
    "cv = cv.drop(columns = 'Survived')"
   ]
  },
  {
   "cell_type": "code",
   "execution_count": 61,
   "metadata": {},
   "outputs": [],
   "source": [
    "#Create features for training, cross-validation, and testing\n",
    "#poly = PolynomialFeatures(8, include_bias = False)\n",
    "\n",
    "X_train = train.values\n",
    "intercept = np.zeros((len(X_train),1))\n",
    "X_train = np.hstack((intercept, X_train))\n",
    "#X_train = poly.fit_transform(X_train)\n",
    "(m_t,n_t) = X_train.shape\n",
    "theta_train = np.zeros((n_t,1))\n",
    "\n",
    "X_cv = cv.values\n",
    "intercept = np.zeros((len(X_cv),1))\n",
    "X_cv = np.hstack((intercept, X_cv))\n",
    "(m_cv,n_cv) = X_cv.shape\n",
    "theta = np.zeros((n_cv,1))\n",
    "\n",
    "X_test = df_test.values\n",
    "intercept = np.zeros((len(X_test),1))\n",
    "X_test = np.hstack((intercept, X_test))\n",
    "(m_test,n_test) = X_test.shape\n",
    "theta = np.zeros((n_test,1))\n",
    "\n",
    "lambd = 1"
   ]
  },
  {
   "cell_type": "code",
   "execution_count": 62,
   "metadata": {},
   "outputs": [],
   "source": [
    "def costFunction(theta, X, y, lambd):\n",
    "    '''Returns the regularized cost function for logisitc regression'''\n",
    "    m = len(y)\n",
    "    h = sigmoid(X @ theta)\n",
    "    theta[0] = 0\n",
    "    J = (-1/m) * np.sum((y.T @ np.log(h)) + ((1-y).T @ np.log(1-h))) + ((1/(2 * lambd)) * sum(np.square(theta)))\n",
    "    \n",
    "    return J"
   ]
  },
  {
   "cell_type": "code",
   "execution_count": 63,
   "metadata": {},
   "outputs": [
    {
     "data": {
      "text/plain": [
       "array([0.69314718])"
      ]
     },
     "execution_count": 63,
     "metadata": {},
     "output_type": "execute_result"
    }
   ],
   "source": [
    "costFunction(theta_train, X_train, y_train, lambd)"
   ]
  },
  {
   "cell_type": "code",
   "execution_count": 64,
   "metadata": {},
   "outputs": [],
   "source": [
    "def gradientDescent(theta, X, y, lambd):\n",
    "    '''Returns the gradient of the logistic regression cost function'''\n",
    "    m = len(y)\n",
    "    h = sigmoid(X @ theta)\n",
    "    theta[0] = 0\n",
    "    grad = (1/m) * np.sum(X.T @ (h - y)) + ((lambd/m) * theta)\n",
    "    return grad"
   ]
  },
  {
   "cell_type": "code",
   "execution_count": 65,
   "metadata": {},
   "outputs": [
    {
     "data": {
      "text/plain": [
       "array([[1.99982444],\n",
       "       [1.99982444],\n",
       "       [1.99982444],\n",
       "       [1.99982444],\n",
       "       [1.99982444],\n",
       "       [1.99982444],\n",
       "       [1.99982444],\n",
       "       [1.99982444]])"
      ]
     },
     "execution_count": 65,
     "metadata": {},
     "output_type": "execute_result"
    }
   ],
   "source": [
    "gradientDescent(theta_train, X_train, y_train, lambd)"
   ]
  },
  {
   "cell_type": "code",
   "execution_count": 66,
   "metadata": {},
   "outputs": [
    {
     "name": "stdout",
     "output_type": "stream",
     "text": [
      "[ 0.         -0.00115473 -0.00115473 -0.00115473 -0.00115473 -0.00115473\n",
      " -0.00115473 -0.00115473]\n"
     ]
    }
   ],
   "source": [
    "'''Minimizes our cost function with respect to theta'''\n",
    "\n",
    "output = opt.fmin_tnc(func = costFunction, x0 = theta_train.flatten(), fprime = gradientDescent, \n",
    "                      args = (X_train, y_train.flatten(), lambd)) \n",
    "theta_opt = output[0]\n",
    "print(theta_opt)"
   ]
  },
  {
   "cell_type": "code",
   "execution_count": 67,
   "metadata": {},
   "outputs": [
    {
     "data": {
      "text/plain": [
       "0.6095505617977528"
      ]
     },
     "execution_count": 67,
     "metadata": {},
     "output_type": "execute_result"
    }
   ],
   "source": [
    "'''Accuracy on training model'''\n",
    "\n",
    "pred_train = [sigmoid(X_train @ theta_opt) >= .5]\n",
    "np.mean(pred_train == y_train)"
   ]
  },
  {
   "cell_type": "code",
   "execution_count": 68,
   "metadata": {},
   "outputs": [
    {
     "data": {
      "text/plain": [
       "0.6424581005586593"
      ]
     },
     "execution_count": 68,
     "metadata": {},
     "output_type": "execute_result"
    }
   ],
   "source": [
    "'''Accuracy on cross-validation'''\n",
    "\n",
    "pred_cv = [sigmoid(X_cv @theta_opt) >= .5]\n",
    "np.mean(pred_cv == y_cv)"
   ]
  },
  {
   "cell_type": "code",
   "execution_count": 38,
   "metadata": {},
   "outputs": [],
   "source": [
    "'''Make csv file with predictions for test data'''\n",
    "\n",
    "pred_test = [sigmoid(X_test @ theta_opt) >= .5]\n",
    "pred_test = pd.Series(pred_test)\n",
    "pred_test = pd.Series(np.where(pred_test.all() == False, 0, 1))\n",
    "predictions = pd.DataFrame({'PassengerId': test_pss_id, 'Survived': pred_test})\n",
    "predictions.to_csv('data/predictions_model_1', index = False)"
   ]
  },
  {
   "cell_type": "code",
   "execution_count": null,
   "metadata": {},
   "outputs": [],
   "source": []
  }
 ],
 "metadata": {
  "kernelspec": {
   "display_name": "Python 3",
   "language": "python",
   "name": "python3"
  },
  "language_info": {
   "codemirror_mode": {
    "name": "ipython",
    "version": 3
   },
   "file_extension": ".py",
   "mimetype": "text/x-python",
   "name": "python",
   "nbconvert_exporter": "python",
   "pygments_lexer": "ipython3",
   "version": "3.6.5"
  }
 },
 "nbformat": 4,
 "nbformat_minor": 2
}
