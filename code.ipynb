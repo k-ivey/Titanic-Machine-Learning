{
 "cells": [
  {
   "cell_type": "code",
   "execution_count": 35,
   "metadata": {},
   "outputs": [],
   "source": [
    "import pandas as pd\n",
    "import numpy as np\n",
    "import seaborn as sns\n",
    "import matplotlib.pyplot as plt\n",
    "import scipy.optimize as opt\n",
    "from sklearn.preprocessing import PolynomialFeatures"
   ]
  },
  {
   "cell_type": "code",
   "execution_count": 36,
   "metadata": {},
   "outputs": [],
   "source": [
    "df = pd.read_csv('data/train.csv')\n",
    "df = df.drop(columns = ['Name', 'Ticket', 'Cabin'])\n",
    "df['gender'] = np.where(df['Sex'] == 'female', 1, 0)\n",
    "port_dic = {'S': 0, 'C':1, 'Q':2, np.NaN:0}\n",
    "\n",
    "#Most passangers embarked from Southampton\n",
    "df['port'] = pd.Series(df['Embarked']).map(port_dic)\n",
    "\n",
    "df['Fare'] = df['Fare'].astype('int64')\n",
    "df['Age'] = df['Age'].replace('nan', np.nan)\n",
    "rand_age = pd.Series(np.random.randint(df['Age'].mean() - df['Age'].std(), df['Age'].mean() + df['Age'].std(),\n",
    "                            size = 1000))\n",
    "#Fill missing ages with age that falls within one standard deviation of mean\n",
    "df['Age'] = df['Age'].fillna(rand_age)"
   ]
  },
  {
   "cell_type": "code",
   "execution_count": 41,
   "metadata": {},
   "outputs": [],
   "source": [
    "#Set up sigmoid function\n",
    "def sigmoid(x):\n",
    "    '''Returns sigmoid function applied to each element'''\n",
    "    \n",
    "    return (1/(1 + np.exp(-x)))"
   ]
  },
  {
   "cell_type": "code",
   "execution_count": 42,
   "metadata": {},
   "outputs": [],
   "source": [
    "#Split data set into train and cross validation\n",
    "train = df[:int(len(df) *.8)]\n",
    "cv = df[int(len(df)*.8):]"
   ]
  },
  {
   "cell_type": "code",
   "execution_count": 68,
   "metadata": {},
   "outputs": [],
   "source": [
    "y_train = np.array(train['Survived'])\n",
    "y_train = np.reshape(y_train, (len(y_train),1))\n",
    "\n",
    "y_cv = np.array(cv['Survived'])\n",
    "y_cv = np.reshape(y_cv, (len(y_cv), 1))"
   ]
  },
  {
   "cell_type": "code",
   "execution_count": 101,
   "metadata": {},
   "outputs": [],
   "source": [
    "pclass_test = np.array(train['Pclass'])\n",
    "gender_test = np.array(train['gender'])\n",
    "fare_test = np.array(train['Fare'])\n",
    "port_test = np.array(train['port'])\n",
    "age_test = np.array(train['Age'])\n",
    "age_pclass_test = np.array(age_test * pclass_test)\n",
    "x0_test = np.ones((1,len(train)))\n",
    "\n",
    "X_train = np.vstack((x0_test, pclass_test, gender_test, fare_test, port_test, age_test, age_pclass_test))\n",
    "\n",
    "(m, n) = X_train.shape\n",
    "theta = np.zeros((m,1))\n",
    "lambd = 1\n",
    "\n",
    "pclass_cv = np.array(cv['Pclass'])\n",
    "gender_cv = np.array(cv['gender'])\n",
    "fare_cv = np.array(cv['Fare'])\n",
    "port_cv = np.array(cv['port'])\n",
    "x0_cv = np.ones((1,len(cv)))\n",
    "\n",
    "X_cv = np.vstack((x0_cv, pclass_cv, gender_cv, fare_cv, port_cv))"
   ]
  },
  {
   "cell_type": "code",
   "execution_count": 104,
   "metadata": {
    "scrolled": true
   },
   "outputs": [
    {
     "name": "stdout",
     "output_type": "stream",
     "text": [
      "(7, 712)\n",
      "(7, 1)\n"
     ]
    },
    {
     "data": {
      "text/plain": [
       "array([[ 1.,  1.,  1., ...,  1.,  1.,  1.],\n",
       "       [ 3.,  1.,  3., ...,  3.,  1.,  1.],\n",
       "       [ 0.,  1.,  1., ...,  0.,  1.,  0.],\n",
       "       ...,\n",
       "       [ 0.,  1.,  0., ...,  1.,  1.,  0.],\n",
       "       [22., 38., 26., ..., 27., 24., 25.],\n",
       "       [66., 38., 78., ..., 81., 24., 25.]])"
      ]
     },
     "execution_count": 104,
     "metadata": {},
     "output_type": "execute_result"
    }
   ],
   "source": [
    "#Without polynomial features X is 5, 712 and theta is 5, 1)\n",
    "print(X_train.shape)\n",
    "print(theta.shape)\n",
    "X_train"
   ]
  },
  {
   "cell_type": "code",
   "execution_count": 113,
   "metadata": {},
   "outputs": [
    {
     "data": {
      "text/plain": [
       "(712, 1)"
      ]
     },
     "execution_count": 113,
     "metadata": {},
     "output_type": "execute_result"
    }
   ],
   "source": [
    "(theta.T @ X_train).shape"
   ]
  },
  {
   "cell_type": "code",
   "execution_count": 118,
   "metadata": {},
   "outputs": [],
   "source": [
    "def costFunction(theta, X, y, lambd):\n",
    "    '''Returns the regularized cost function'''\n",
    "    m = len(y)\n",
    "    h = sigmoid(theta.T @ X)\n",
    "    theta[0] = 0\n",
    "    x = y.T @ np.log(h)\n",
    "    J = (-1/m) * np.sum((y.T @ np.log(h)) + ((1-y.T) @ np.log(1-h))) + ((1/(2 * lambd)) * sum(np.square(theta)))\n",
    "    \n",
    "    return J\n",
    "    \n"
   ]
  },
  {
   "cell_type": "code",
   "execution_count": 119,
   "metadata": {},
   "outputs": [
    {
     "ename": "ValueError",
     "evalue": "shapes (1,712) and (1,712) not aligned: 712 (dim 1) != 1 (dim 0)",
     "output_type": "error",
     "traceback": [
      "\u001b[0;31m---------------------------------------------------------------------------\u001b[0m",
      "\u001b[0;31mValueError\u001b[0m                                Traceback (most recent call last)",
      "\u001b[0;32m<ipython-input-119-763f93e8b32e>\u001b[0m in \u001b[0;36m<module>\u001b[0;34m()\u001b[0m\n\u001b[0;32m----> 1\u001b[0;31m \u001b[0mcostFunction\u001b[0m\u001b[0;34m(\u001b[0m\u001b[0mtheta\u001b[0m\u001b[0;34m,\u001b[0m \u001b[0mX_train\u001b[0m\u001b[0;34m,\u001b[0m \u001b[0my_train\u001b[0m\u001b[0;34m,\u001b[0m \u001b[0mlambd\u001b[0m\u001b[0;34m)\u001b[0m\u001b[0;34m\u001b[0m\u001b[0m\n\u001b[0m",
      "\u001b[0;32m<ipython-input-118-bedeffd9ce77>\u001b[0m in \u001b[0;36mcostFunction\u001b[0;34m(theta, X, y, lambd)\u001b[0m\n\u001b[1;32m      4\u001b[0m     \u001b[0mh\u001b[0m \u001b[0;34m=\u001b[0m \u001b[0msigmoid\u001b[0m\u001b[0;34m(\u001b[0m\u001b[0mtheta\u001b[0m\u001b[0;34m.\u001b[0m\u001b[0mT\u001b[0m \u001b[0;34m@\u001b[0m \u001b[0mX\u001b[0m\u001b[0;34m)\u001b[0m\u001b[0;34m\u001b[0m\u001b[0m\n\u001b[1;32m      5\u001b[0m     \u001b[0mtheta\u001b[0m\u001b[0;34m[\u001b[0m\u001b[0;36m0\u001b[0m\u001b[0;34m]\u001b[0m \u001b[0;34m=\u001b[0m \u001b[0;36m0\u001b[0m\u001b[0;34m\u001b[0m\u001b[0m\n\u001b[0;32m----> 6\u001b[0;31m     \u001b[0mx\u001b[0m \u001b[0;34m=\u001b[0m \u001b[0my\u001b[0m\u001b[0;34m.\u001b[0m\u001b[0mT\u001b[0m \u001b[0;34m@\u001b[0m \u001b[0mnp\u001b[0m\u001b[0;34m.\u001b[0m\u001b[0mlog\u001b[0m\u001b[0;34m(\u001b[0m\u001b[0mh\u001b[0m\u001b[0;34m)\u001b[0m\u001b[0;34m\u001b[0m\u001b[0m\n\u001b[0m\u001b[1;32m      7\u001b[0m     \u001b[0mJ\u001b[0m \u001b[0;34m=\u001b[0m \u001b[0;34m(\u001b[0m\u001b[0;34m-\u001b[0m\u001b[0;36m1\u001b[0m\u001b[0;34m/\u001b[0m\u001b[0mm\u001b[0m\u001b[0;34m)\u001b[0m \u001b[0;34m*\u001b[0m \u001b[0mnp\u001b[0m\u001b[0;34m.\u001b[0m\u001b[0msum\u001b[0m\u001b[0;34m(\u001b[0m\u001b[0;34m(\u001b[0m\u001b[0my\u001b[0m \u001b[0;34m@\u001b[0m \u001b[0mnp\u001b[0m\u001b[0;34m.\u001b[0m\u001b[0mlog\u001b[0m\u001b[0;34m(\u001b[0m\u001b[0mh\u001b[0m\u001b[0;34m)\u001b[0m\u001b[0;34m.\u001b[0m\u001b[0mT\u001b[0m\u001b[0;34m)\u001b[0m \u001b[0;34m+\u001b[0m \u001b[0;34m(\u001b[0m\u001b[0;34m(\u001b[0m\u001b[0;36m1\u001b[0m\u001b[0;34m-\u001b[0m\u001b[0my\u001b[0m\u001b[0;34m)\u001b[0m \u001b[0;34m@\u001b[0m \u001b[0mnp\u001b[0m\u001b[0;34m.\u001b[0m\u001b[0mlog\u001b[0m\u001b[0;34m(\u001b[0m\u001b[0;36m1\u001b[0m\u001b[0;34m-\u001b[0m\u001b[0mh\u001b[0m\u001b[0;34m)\u001b[0m\u001b[0;34m)\u001b[0m\u001b[0;34m)\u001b[0m \u001b[0;34m+\u001b[0m \u001b[0;34m(\u001b[0m\u001b[0;34m(\u001b[0m\u001b[0;36m1\u001b[0m\u001b[0;34m/\u001b[0m\u001b[0;34m(\u001b[0m\u001b[0;36m2\u001b[0m \u001b[0;34m*\u001b[0m \u001b[0mlambd\u001b[0m\u001b[0;34m)\u001b[0m\u001b[0;34m)\u001b[0m \u001b[0;34m*\u001b[0m \u001b[0msum\u001b[0m\u001b[0;34m(\u001b[0m\u001b[0mnp\u001b[0m\u001b[0;34m.\u001b[0m\u001b[0msquare\u001b[0m\u001b[0;34m(\u001b[0m\u001b[0mtheta\u001b[0m\u001b[0;34m)\u001b[0m\u001b[0;34m)\u001b[0m\u001b[0;34m)\u001b[0m\u001b[0;34m\u001b[0m\u001b[0m\n\u001b[1;32m      8\u001b[0m \u001b[0;34m\u001b[0m\u001b[0m\n",
      "\u001b[0;31mValueError\u001b[0m: shapes (1,712) and (1,712) not aligned: 712 (dim 1) != 1 (dim 0)"
     ]
    }
   ],
   "source": [
    "costFunction(theta, X_train, y_train, lambd)"
   ]
  },
  {
   "cell_type": "code",
   "execution_count": 74,
   "metadata": {},
   "outputs": [],
   "source": [
    "def gradientDescent(theta, X, y, lambd):\n",
    "    '''Returns the gradient'''\n",
    "    m = len(y)\n",
    "    h = sigmoid(X.T @ theta)\n",
    "    theta[0] = 0\n",
    "    grad = (1/m) * np.sum(X @ (h - y)) + ((lambd/m) * theta)\n",
    "    return grad"
   ]
  },
  {
   "cell_type": "code",
   "execution_count": 75,
   "metadata": {},
   "outputs": [
    {
     "data": {
      "text/plain": [
       "array([[13.67497893],\n",
       "       [13.67497893],\n",
       "       [13.67497893],\n",
       "       [13.67497893],\n",
       "       [13.67497893],\n",
       "       [13.67497893],\n",
       "       [13.67497893]])"
      ]
     },
     "execution_count": 75,
     "metadata": {},
     "output_type": "execute_result"
    }
   ],
   "source": [
    "gradientDescent(theta, X_train, y_train, lambd)"
   ]
  },
  {
   "cell_type": "code",
   "execution_count": 76,
   "metadata": {},
   "outputs": [
    {
     "name": "stdout",
     "output_type": "stream",
     "text": [
      "[ 0.        -0.0028296 -0.0028296 -0.0028296 -0.0028296 -0.0028296\n",
      " -0.0028296]\n"
     ]
    }
   ],
   "source": [
    "output = opt.fmin_tnc(func = costFunction, x0 = theta.flatten(), fprime = gradientDescent, \n",
    "                      args = (X_train, y_train.flatten(), lambd)) \n",
    "theta_opt = output[0]\n",
    "print(theta_opt)"
   ]
  },
  {
   "cell_type": "code",
   "execution_count": 79,
   "metadata": {},
   "outputs": [],
   "source": [
    "#pred = [sigmoid(np.dot(X_cv.T, theta_opt)) >= .05]\n",
    "#np.mean(pred == y_cv.flatten())"
   ]
  },
  {
   "cell_type": "code",
   "execution_count": 78,
   "metadata": {},
   "outputs": [
    {
     "data": {
      "text/plain": [
       "0.3904494382022472"
      ]
     },
     "execution_count": 78,
     "metadata": {},
     "output_type": "execute_result"
    }
   ],
   "source": [
    "pred = [sigmoid(np.dot(X_train.T, theta_opt)) >= .05]\n",
    "np.mean(pred == y_train.flatten())"
   ]
  },
  {
   "cell_type": "code",
   "execution_count": null,
   "metadata": {},
   "outputs": [],
   "source": [
    "#0.3904494382022472"
   ]
  }
 ],
 "metadata": {
  "kernelspec": {
   "display_name": "Python 3",
   "language": "python",
   "name": "python3"
  },
  "language_info": {
   "codemirror_mode": {
    "name": "ipython",
    "version": 3
   },
   "file_extension": ".py",
   "mimetype": "text/x-python",
   "name": "python",
   "nbconvert_exporter": "python",
   "pygments_lexer": "ipython3",
   "version": "3.6.5"
  }
 },
 "nbformat": 4,
 "nbformat_minor": 2
}
